{
 "cells": [
  {
   "cell_type": "markdown",
   "id": "a99c4fcb",
   "metadata": {
    "tags": []
   },
   "source": [
    "# 轨迹生成算法"
   ]
  },
  {
   "cell_type": "code",
   "execution_count": 8,
   "id": "e199e143",
   "metadata": {
    "tags": []
   },
   "outputs": [],
   "source": [
    "import shapefile\n",
    "from shapely.geometry import MultiLineString\n",
    "import numpy as np\n",
    "import pandas as pd\n",
    "from anytree import AnyNode\n",
    "from anytree.search import findall_by_attr\n",
    "\n",
    "import matplotlib.pyplot as plt\n",
    "import cartopy\n",
    "import cartopy.io.shapereader as shpreader\n",
    "import cartopy.crs as ccrs"
   ]
  },
  {
   "cell_type": "markdown",
   "id": "c917b609-ef70-45cf-b904-8bdbd5ebc04d",
   "metadata": {
    "tags": []
   },
   "source": [
    "## 输入端口"
   ]
  },
  {
   "cell_type": "code",
   "execution_count": 9,
   "id": "4a8e869f-91f7-4596-9bff-649616eb78d7",
   "metadata": {
    "tags": []
   },
   "outputs": [],
   "source": [
    "# 点击按键\n",
    "def con(x):\n",
    "    global prop_lst, geom_lst\n",
    "    ## 读取文件\n",
    "    fi = shapefile.Reader(f'workingdata5/{out_way.value}.shp')\n",
    "    records = pd.DataFrame(fi.records(),columns=[i[0] for i in fi.fields[1:]])  # 用于加权计算\n",
    "    geoms = fi.shapes()  # 地理信息\n",
    "    fi.close()\n",
    "    adjacent = np.load(f'workingdata5/{out_way.value}.npy',allow_pickle=True).item()\n",
    "\n",
    "    ## 要素阈值与距离阈值\n",
    "    # 连结要素\n",
    "    link_dict = {'热门程度':'hot','服务设施完善程度':'serve','景观类型-人文':'scene_h','景观类型-自然':'scene_n','挑战性':'dem'}\n",
    "    link_field = link_dict[link_option.value]\n",
    "    link_tol_cls = 12 - link_cls.value  # 连接要素-距离阈值\n",
    "    link_tol_sep = 11 - link_sep.value\n",
    "    link_tol_sep_on = link_sep_on.value\n",
    "\n",
    "    link_field2_on = link_option2_on.value\n",
    "    link_field2 = link_dict[link_option2.value]\n",
    "    link_tol2_cls = 12 - link_cls2.value\n",
    "    link_tol2_sep = 11 - link_sep2.value\n",
    "    link_tol2_sep_on = link_sep2_on.value\n",
    "    # 筛选要素\n",
    "    datetime = {'今天':'0','明天':'1','后天':'2'}  # 筛选要素-要素阈值\n",
    "    like_short, like_long = like_length.value\n",
    "\n",
    "    ## 要素二值化\n",
    "    # 连结要素\n",
    "    records['link'] = records[link_field]\n",
    "    records['link2'] = records[link_field2]\n",
    "    # 筛选要素\n",
    "    records['choose_weather'] = records['weather'+datetime[out_day.value]]\n",
    "    records['choose_length'] = records['SHAPE_Leng']\n",
    "    # 评价要素\n",
    "    records['star'] = records['hot']*weight_hot.value + records['serve']*weight_serve.value + records['dem']*weight_dem.value + records['weather'+datetime[out_day.value]]*weight_weather.value\n",
    "\n",
    "    ## 拼接\n",
    "    rank = 0\n",
    "    geom_lst = []\n",
    "    prop_lst = []\n",
    "    nodes_set = set()  # 是否已遍历\n",
    "    if link_field2_on:\n",
    "        # 索引结构\n",
    "        for root_idx in np.where((records['link'] == 1))[0]:\n",
    "            if root_idx in nodes_set:  # 若已遍历则跳过\n",
    "                continue\n",
    "            root = AnyNode(name=str(root_idx) + \"_0_0\")\n",
    "            cdts = [root]\n",
    "\n",
    "            while len(cdts) > 0:\n",
    "                current_node_idx = int(cdts[0].name.split(\"_\")[0])  # 当前小节索引\n",
    "                adjacent_lines_idx = adjacent[current_node_idx]  # 临近小节索引-列表\n",
    "                nodes_set.add(current_node_idx)  # 路线小节索引-组\n",
    "                # 判断小节可行性\n",
    "                for adjacent_line_idx in adjacent_lines_idx:\n",
    "                    # 判断要素阈值可行性\n",
    "                    flag = int(records.loc[adjacent_line_idx, 'link'])\n",
    "                    flag2 = int(records.loc[adjacent_line_idx, 'link2'])\n",
    "                    node_name = \"%d_%d_%d\" % (adjacent_line_idx, flag, flag2)\n",
    "                    # 构建路线列表\n",
    "                    current_path_cls = sum([int(node.name.split(\"_\")[1]) for node in list(cdts[0].iter_path_reverse())[:link_tol_cls]]) + int(flag)\n",
    "                    current_path_sep = sum([int(node.name.split(\"_\")[1]) for node in list(cdts[0].iter_path_reverse())[:link_tol_sep]]) + int(flag)\n",
    "                    current_path2_cls = sum([int(node.name.split(\"_\")[2]) for node in list(cdts[0].iter_path_reverse())[:link_tol2_cls]]) + int(flag2)\n",
    "                    current_path2_sep = sum([int(node.name.split(\"_\")[2]) for node in list(cdts[0].iter_path_reverse())[:link_tol2_sep]]) + int(flag2)                    # 判断距离阈值可行性：测度当前不符合条件连续小节数\n",
    "                    if len(list(findall_by_attr(root, node_name))) < 1 \\\n",
    "                            and current_path_cls > 0 \\\n",
    "                            and (not link_tol_sep_on or current_path_sep < link_tol_sep)\\\n",
    "                            and current_path2_cls > 0 \\\n",
    "                            and (not link_tol2_sep_on or current_path2_sep < link_tol2_sep)\\\n",
    "                            and adjacent_line_idx not in nodes_set:\n",
    "                        adjacent_line = AnyNode(name=node_name, parent=cdts[0])\n",
    "                        nodes_set.add(adjacent_line_idx)\n",
    "                        cdts.append(adjacent_line)\n",
    "                # 筛选要素筛选\n",
    "                if len(cdts) > like_long*20 or records.loc[current_node_idx,'choose_weather'] == 0:\n",
    "                    break\n",
    "                del cdts[0]\n",
    "\n",
    "            nodes = set()\n",
    "            dfs_paths = [leaf.iter_path_reverse() for leaf in root.leaves]\n",
    "            for path in dfs_paths:\n",
    "                flag = False\n",
    "                for node in path:\n",
    "                    if node.name.split(\"_\")[1] == \"1\" or (link_field2_on and node.name.split(\"_\")[2] == \"1\"):\n",
    "                        flag = True\n",
    "                    if flag:\n",
    "                        nodes.add(node)\n",
    "\n",
    "            # 筛选要素筛选\n",
    "            total_length = sum([records.loc[int(node.name.split(\"_\")[0]),'choose_length'] for node in list(nodes)])\n",
    "            if total_length < like_short*1000:\n",
    "                continue\n",
    "\n",
    "            # 评分信息计算\n",
    "            total_star = sum([records.loc[int(node.name.split(\"_\")[0]),'star'] for node in list(nodes)])\n",
    "            star = round(total_star / total_length,3)\n",
    "            # 其他信息计算\n",
    "            total_element_lst = sum([records.loc[int(node.name.split(\"_\")[0]),['hot','serve','dem','choose_weather']] for node in list(nodes)])\n",
    "            element_lst = [round(total_element / total_length,3) for total_element in total_element_lst]\n",
    "\n",
    "            # 路线/信息写入列表\n",
    "            geom_lst.append(MultiLineString([geoms[int(node.name.split(\"_\")[0])].points for node in list(nodes)]))  # 路线\n",
    "            prop_lst.append([rank, star, total_length]+element_lst)  # 信息\n",
    "            rank += 1\n",
    "    else:\n",
    "        # 索引结构\n",
    "        for root_idx in np.where((records['link'] == 1))[0]:\n",
    "            if root_idx in nodes_set:  # 若已遍历则跳过\n",
    "                continue\n",
    "            root = AnyNode(name=str(root_idx) + \"_0\")\n",
    "            cdts = [root]\n",
    "\n",
    "            while len(cdts) > 0:\n",
    "                current_node_idx = int(cdts[0].name.split(\"_\")[0])  # 当前小节索引\n",
    "                adjacent_lines_idx = adjacent[current_node_idx]  # 临近小节索引-列表\n",
    "                nodes_set.add(current_node_idx)  # 路线小节索引-组\n",
    "                # 判断小节可行性\n",
    "                for adjacent_line_idx in adjacent_lines_idx:\n",
    "                    # 判断要素阈值可行性\n",
    "                    flag = int(records.loc[adjacent_line_idx, 'link'])\n",
    "                    node_name = \"%d_%d\" % (adjacent_line_idx, flag)\n",
    "                    # 构建路线列表\n",
    "                    current_path_cls = sum([int(node.name.split(\"_\")[1]) for node in list(cdts[0].iter_path_reverse())[:link_tol_cls]]) + int(flag)\n",
    "                    current_path_sep = sum([int(node.name.split(\"_\")[1]) for node in list(cdts[0].iter_path_reverse())[:link_tol_sep]]) + int(flag)\n",
    "                    # 判断距离阈值可行性：测度当前不符合条件连续小节数\n",
    "                    if len(list(findall_by_attr(root, node_name))) < 1 \\\n",
    "                            and current_path_cls > 0 \\\n",
    "                            and (not link_tol_sep_on or current_path_sep < link_tol_sep)\\\n",
    "                            and adjacent_line_idx not in nodes_set:\n",
    "                        adjacent_line = AnyNode(name=node_name, parent=cdts[0])\n",
    "                        nodes_set.add(adjacent_line_idx)\n",
    "                        cdts.append(adjacent_line)\n",
    "                # 筛选要素筛选\n",
    "                if len(cdts) > like_long*20 or records.loc[current_node_idx,'choose_weather'] == 0:\n",
    "                    break\n",
    "                del cdts[0]\n",
    "\n",
    "            nodes = set()\n",
    "            dfs_paths = [leaf.iter_path_reverse() for leaf in root.leaves]\n",
    "            for path in dfs_paths:\n",
    "                flag = False\n",
    "                for node in path:\n",
    "                    if node.name.split(\"_\")[1] == \"1\":\n",
    "                        flag = True\n",
    "                    if flag:\n",
    "                        nodes.add(node)\n",
    "\n",
    "            # 筛选要素筛选\n",
    "            total_length = sum([records.loc[int(node.name.split(\"_\")[0]),'choose_length'] for node in list(nodes)])\n",
    "            if total_length < like_short*1000:\n",
    "                continue\n",
    "\n",
    "            # 评分信息计算\n",
    "            total_star = sum([records.loc[int(node.name.split(\"_\")[0]),'star'] for node in list(nodes)])\n",
    "            star = round(total_star / total_length,3)\n",
    "            # 其他信息计算\n",
    "            total_element_lst = sum([records.loc[int(node.name.split(\"_\")[0]),['hot','serve','dem','choose_weather']] for node in list(nodes)])\n",
    "            element_lst = [round(total_element / total_length,3) for total_element in total_element_lst]\n",
    "\n",
    "            # 路线/信息写入列表\n",
    "            geom_lst.append(MultiLineString([geoms[int(node.name.split(\"_\")[0])].points for node in list(nodes)]))  # 路线\n",
    "            prop_lst.append([rank, star, total_length]+element_lst)  # 信息\n",
    "            rank += 1\n",
    "\n",
    "    prop_lst = pd.DataFrame(prop_lst,columns=['rank','综合评分','总长度','热门程度','服务设施完善程度','挑战性','气候状况'])  # 简单排序"
   ]
  },
  {
   "cell_type": "code",
   "execution_count": null,
   "id": "ba0a5d2e",
   "metadata": {},
   "outputs": [],
   "source": []
  },
  {
   "cell_type": "code",
   "execution_count": 10,
   "id": "75c55f29-4e7a-4115-ba43-468b214a07a9",
   "metadata": {
    "tags": []
   },
   "outputs": [],
   "source": [
    "import ipywidgets as widgets\n",
    "widgets.HTML(value='要素权重偏好')\n",
    "\n",
    "# 出行类型\n",
    "a = widgets.HTML(value='<h2>出行方式</h2><hr>')\n",
    "out_way = widgets.Dropdown(options=['徒步','登山','骑行'],description='出行类型')\n",
    "out_day = widgets.Dropdown(options=['今天','明天','后天'],description='出行日期')\n",
    "\n",
    "# 连结要求\n",
    "b = widgets.HTML(value='<h2>连结要求</h2><hr>')\n",
    "link_option = widgets.Dropdown(options=['热门程度','服务设施完善程度','景观类型-人文','景观类型-自然','挑战性'],description='核心需求')\n",
    "link_cls = widgets.IntSlider(min=1,max=5,description='紧凑度',value=3)\n",
    "link_sep = widgets.IntSlider(min=1,max=5,description='松散度',value=3)\n",
    "link_sep_on = widgets.Checkbox(value=False,description='是否使用指标（非挑战性慎用）')\n",
    "link_option2 = widgets.Dropdown(options=['热门程度','服务设施完善程度','景观类型-人文','景观类型-自然','挑战性'],description='核心需求',value='服务设施完善程度')\n",
    "link_option2_on = widgets.Checkbox(value=False,description='是否使用第二个要素')\n",
    "link_cls2 = widgets.IntSlider(min=1,max=5,description='紧凑度',value=3)\n",
    "link_sep2 = widgets.IntSlider(min=1,max=5,description='松散度',value=3)\n",
    "link_sep2_on = widgets.Checkbox(value=False,description='是否使用指标（非挑战性慎用）')\n",
    "\n",
    "# 筛选变量\n",
    "c = widgets.HTML(value='<h2>筛选条件</h2><hr>')\n",
    "like_length = widgets.SelectionRangeSlider(options=[2,3,4,5,6,7,8],description='线路长度km',value=(2,8))\n",
    "\n",
    "# 要素间权重\n",
    "d = widgets.HTML(value='<h2>评价权重</h2><hr>')\n",
    "weight_hot = widgets.FloatSlider(min=0.2,max=1.8,step=0.4,description='热门程度',value=1,readout_format='.1f')\n",
    "weight_serve = widgets.FloatSlider(min=0.2,max=1.8,step=0.4,description='服务设施完善程度',value=1,readout_format='.1f')\n",
    "weight_dem = widgets.FloatSlider(min=0.2,max=1.8,step=0.4,description='挑战性',value=1,readout_format='.1f')\n",
    "weight_weather = widgets.FloatSlider(min=0.2,max=1.8,step=0.4,description='天气状况',value=1,readout_format='.1f')"
   ]
  },
  {
   "cell_type": "code",
   "execution_count": 11,
   "id": "e695068e-543e-4638-9da4-4552b82a11fc",
   "metadata": {
    "tags": []
   },
   "outputs": [
    {
     "data": {
      "application/vnd.jupyter.widget-view+json": {
       "model_id": "cdf5ee7186b441bc9d51c4b0a927a5b8",
       "version_major": 2,
       "version_minor": 0
      },
      "text/plain": [
       "HTML(value='<h2>出行方式</h2><hr>')"
      ]
     },
     "metadata": {},
     "output_type": "display_data"
    },
    {
     "data": {
      "application/vnd.jupyter.widget-view+json": {
       "model_id": "7f0137c6ee5e4bb5ae508655709927f8",
       "version_major": 2,
       "version_minor": 0
      },
      "text/plain": [
       "Dropdown(description='出行类型', options=('徒步', '登山', '骑行'), value='徒步')"
      ]
     },
     "metadata": {},
     "output_type": "display_data"
    },
    {
     "data": {
      "application/vnd.jupyter.widget-view+json": {
       "model_id": "d5c03b03d0f34d70aefa492cc993db47",
       "version_major": 2,
       "version_minor": 0
      },
      "text/plain": [
       "Dropdown(description='出行日期', options=('今天', '明天', '后天'), value='今天')"
      ]
     },
     "metadata": {},
     "output_type": "display_data"
    },
    {
     "data": {
      "application/vnd.jupyter.widget-view+json": {
       "model_id": "d4c80d40f8384aebadaeb851cfa5afe3",
       "version_major": 2,
       "version_minor": 0
      },
      "text/plain": [
       "HTML(value='<h2>连结要求</h2><hr>')"
      ]
     },
     "metadata": {},
     "output_type": "display_data"
    },
    {
     "data": {
      "application/vnd.jupyter.widget-view+json": {
       "model_id": "3acd4556aeda4667ae352a3cfb158b2c",
       "version_major": 2,
       "version_minor": 0
      },
      "text/plain": [
       "Dropdown(description='核心需求', options=('热门程度', '服务设施完善程度', '景观类型-人文', '景观类型-自然', '挑战性'), value='热门程度')"
      ]
     },
     "metadata": {},
     "output_type": "display_data"
    },
    {
     "data": {
      "application/vnd.jupyter.widget-view+json": {
       "model_id": "a9fff1816bd9471aa6352369b4c7cd63",
       "version_major": 2,
       "version_minor": 0
      },
      "text/plain": [
       "IntSlider(value=3, description='紧凑度', max=5, min=1)"
      ]
     },
     "metadata": {},
     "output_type": "display_data"
    },
    {
     "data": {
      "application/vnd.jupyter.widget-view+json": {
       "model_id": "81e3fa80b6084cfa8c581aa6b59bdd15",
       "version_major": 2,
       "version_minor": 0
      },
      "text/plain": [
       "HBox(children=(IntSlider(value=3, description='松散度', max=5, min=1), Checkbox(value=False, description='是否使用指标（…"
      ]
     },
     "metadata": {},
     "output_type": "display_data"
    },
    {
     "data": {
      "application/vnd.jupyter.widget-view+json": {
       "model_id": "087badc2fae84875846f9271f0f65913",
       "version_major": 2,
       "version_minor": 0
      },
      "text/plain": [
       "HBox(children=(Dropdown(description='核心需求', index=1, options=('热门程度', '服务设施完善程度', '景观类型-人文', '景观类型-自然', '挑战性')…"
      ]
     },
     "metadata": {},
     "output_type": "display_data"
    },
    {
     "data": {
      "application/vnd.jupyter.widget-view+json": {
       "model_id": "9eb0d49f1a0741d9b9d3be4dc88890e0",
       "version_major": 2,
       "version_minor": 0
      },
      "text/plain": [
       "IntSlider(value=3, description='紧凑度', max=5, min=1)"
      ]
     },
     "metadata": {},
     "output_type": "display_data"
    },
    {
     "data": {
      "application/vnd.jupyter.widget-view+json": {
       "model_id": "31ad2c688bd440fdb2bc37d287cca4e8",
       "version_major": 2,
       "version_minor": 0
      },
      "text/plain": [
       "HBox(children=(IntSlider(value=3, description='松散度', max=5, min=1), Checkbox(value=False, description='是否使用指标（…"
      ]
     },
     "metadata": {},
     "output_type": "display_data"
    },
    {
     "data": {
      "application/vnd.jupyter.widget-view+json": {
       "model_id": "21423d04db604c7882b6f791eac2067c",
       "version_major": 2,
       "version_minor": 0
      },
      "text/plain": [
       "HTML(value='<h2>筛选条件</h2><hr>')"
      ]
     },
     "metadata": {},
     "output_type": "display_data"
    },
    {
     "data": {
      "application/vnd.jupyter.widget-view+json": {
       "model_id": "e3435db2fd12437bb544e3370a88ddde",
       "version_major": 2,
       "version_minor": 0
      },
      "text/plain": [
       "SelectionRangeSlider(description='线路长度km', index=(0, 6), options=(2, 3, 4, 5, 6, 7, 8), value=(2, 8))"
      ]
     },
     "metadata": {},
     "output_type": "display_data"
    },
    {
     "data": {
      "application/vnd.jupyter.widget-view+json": {
       "model_id": "b12166d7538e41c98935f0578def14f5",
       "version_major": 2,
       "version_minor": 0
      },
      "text/plain": [
       "HTML(value='<h2>评价权重</h2><hr>')"
      ]
     },
     "metadata": {},
     "output_type": "display_data"
    },
    {
     "data": {
      "application/vnd.jupyter.widget-view+json": {
       "model_id": "3c6cebf056b1421d997ece842e6e0836",
       "version_major": 2,
       "version_minor": 0
      },
      "text/plain": [
       "FloatSlider(value=1.0, description='热门程度', max=1.8, min=0.2, readout_format='.1f', step=0.4)"
      ]
     },
     "metadata": {},
     "output_type": "display_data"
    },
    {
     "data": {
      "application/vnd.jupyter.widget-view+json": {
       "model_id": "24111a37eea04055b59dab26ddd6ffda",
       "version_major": 2,
       "version_minor": 0
      },
      "text/plain": [
       "FloatSlider(value=1.0, description='服务设施完善程度', max=1.8, min=0.2, readout_format='.1f', step=0.4)"
      ]
     },
     "metadata": {},
     "output_type": "display_data"
    },
    {
     "data": {
      "application/vnd.jupyter.widget-view+json": {
       "model_id": "23874f517beb44e19acd6e7c1484f64b",
       "version_major": 2,
       "version_minor": 0
      },
      "text/plain": [
       "FloatSlider(value=1.0, description='挑战性', max=1.8, min=0.2, readout_format='.1f', step=0.4)"
      ]
     },
     "metadata": {},
     "output_type": "display_data"
    },
    {
     "data": {
      "application/vnd.jupyter.widget-view+json": {
       "model_id": "c2e705028d754f15af0c361cbfb1cb09",
       "version_major": 2,
       "version_minor": 0
      },
      "text/plain": [
       "FloatSlider(value=1.0, description='天气状况', max=1.8, min=0.2, readout_format='.1f', step=0.4)"
      ]
     },
     "metadata": {},
     "output_type": "display_data"
    },
    {
     "data": {
      "application/vnd.jupyter.widget-view+json": {
       "model_id": "30c917fca426406380d24cd31e8e9018",
       "version_major": 2,
       "version_minor": 0
      },
      "text/plain": [
       "Button(description='开始构建', style=ButtonStyle())"
      ]
     },
     "metadata": {},
     "output_type": "display_data"
    }
   ],
   "source": [
    "button = widgets.Button(description='开始构建')\n",
    "button.on_click(con)\n",
    "\n",
    "display(\n",
    "    a, out_way,out_day,\n",
    "    b, link_option,link_cls,widgets.HBox((link_sep,link_sep_on)),\n",
    "    widgets.HBox((link_option2,link_option2_on)),link_cls2,widgets.HBox((link_sep2,link_sep2_on)),\n",
    "    c, like_length,\n",
    "    d, weight_hot,weight_serve,weight_dem,weight_weather,\n",
    "    button\n",
    ")"
   ]
  },
  {
   "cell_type": "markdown",
   "id": "47ecae77-4606-4417-accd-178679df1888",
   "metadata": {},
   "source": [
    "## 输出端口"
   ]
  },
  {
   "cell_type": "code",
   "execution_count": 12,
   "id": "decc652d-6fe8-402f-bbe0-2be53dded722",
   "metadata": {
    "tags": []
   },
   "outputs": [
    {
     "data": {
      "application/vnd.jupyter.widget-view+json": {
       "model_id": "53cc01ef4a6e4892ad54454025a64fbc",
       "version_major": 2,
       "version_minor": 0
      },
      "text/plain": [
       "interactive(children=(Dropdown(description='rank_element', options=('综合评分', '总长度', '热门程度', '服务设施完善程度', '景点评价',…"
      ]
     },
     "metadata": {},
     "output_type": "display_data"
    }
   ],
   "source": [
    "from ipywidgets import interact_manual\n",
    "\n",
    "\n",
    "@interact_manual\n",
    "def sort(rank_element=['综合评分','总长度','热门程度','服务设施完善程度','景点评价','挑战性','气候状况'],\n",
    "         ascending_element=['高值在前','低值在前']\n",
    "        ):\n",
    "    global prop_lst\n",
    "    prop_lst = prop_lst.sort_values(by=rank_element,ascending=(ascending_element=='低值在前')).reset_index(drop=True)\n",
    "    display('符合条件线路总数：'+str(len(prop_lst)),prop_lst.head(15))"
   ]
  },
  {
   "cell_type": "code",
   "execution_count": 13,
   "id": "982900f9-16ab-4a68-8978-f6e179f9179c",
   "metadata": {
    "tags": []
   },
   "outputs": [],
   "source": [
    "import cartopy.io.img_tiles as cimgt\n",
    "request = cimgt.GoogleTiles()"
   ]
  },
  {
   "cell_type": "code",
   "execution_count": 14,
   "id": "e61a34b6-20e7-4c90-afb3-5601b83ae781",
   "metadata": {
    "tags": []
   },
   "outputs": [
    {
     "data": {
      "application/vnd.jupyter.widget-view+json": {
       "model_id": "39cd83cdc0584a2bbcc184173084104e",
       "version_major": 2,
       "version_minor": 0
      },
      "text/plain": [
       "interactive(children=(Dropdown(description='prop', options=(0, 1, 2, 3, 4, 5, 6, 7, 8, 9, 10, 11, 12, 13, 14),…"
      ]
     },
     "metadata": {},
     "output_type": "display_data"
    }
   ],
   "source": [
    "from ipywidgets import interact_manual\n",
    "\n",
    "\n",
    "@interact_manual\n",
    "def geoplot(prop=range(0,15)):\n",
    "    geom = geom_lst[prop_lst.loc[prop,'rank']]\n",
    "    bound = geom.bounds\n",
    "    bound_out = 2000\n",
    "\n",
    "    # 创建小地图画布\n",
    "    fig = plt.figure(figsize=(10, 10))\n",
    "    ax1 = fig.add_subplot(1, 2, 1, projection=ccrs.UTM(zone=50))\n",
    "    ax1.set_extent([bound[0]-bound_out,bound[2]+bound_out,bound[1]-bound_out,bound[3]+bound_out], crs=ccrs.UTM(zone=50))  # 设置显示范围\n",
    "    # 添加网络地图到地图上，设置透明度为0.5\n",
    "    ax1.add_image(request, 12)\n",
    "    # 绘制北京边界\n",
    "    reader = shpreader.Reader('../workingdata5/Beijing_Border1.shp')\n",
    "    records = reader.records()\n",
    "    for record in records:\n",
    "        ax1.add_geometries([record.geometry], ccrs.PlateCarree(), facecolor='none', edgecolor='black',linestyle=\"--\")  # 设置图例\n",
    "    # 绘制内容\n",
    "    # ax1.gridlines(draw_labels=True,linewidth=0,color='k')\n",
    "    ax1.add_geometries(geom,ccrs.UTM(zone=50),lw=5, edgecolor='red')\n",
    "\n",
    "    # 创建大地图画布\n",
    "    ax2 = fig.add_subplot(1, 2, 2, projection=ccrs.UTM(zone=50))\n",
    "    ax2.set_extent([115,117.75,39.25,41.25], crs=ccrs.PlateCarree())  # 设置显示范围\n",
    "    # 添加地理特征\n",
    "    ax2.add_feature(cartopy.feature.LAND)\n",
    "    ax2.add_feature(cartopy.feature.LAKES, alpha=0.5)\n",
    "    ax2.add_feature(cartopy.feature.RIVERS)\n",
    "    # 绘制北京边界\n",
    "    records = reader.records()\n",
    "    for record in records:\n",
    "        ax2.add_geometries([record.geometry], ccrs.PlateCarree(), facecolor='none', edgecolor='black',linestyle=\"--\")  # 设置图例\n",
    "    # 绘制大地图内容\n",
    "    # ax2.gridlines(draw_labels=True,linewidth=0,color='k')\n",
    "    ax2.add_geometries(geom,ccrs.UTM(zone=50),lw=4, edgecolor='red')\n",
    "\n",
    "    plt.show()"
   ]
  }
 ],
 "metadata": {
  "kernelspec": {
   "display_name": "base",
   "language": "python",
   "name": "python3"
  },
  "language_info": {
   "codemirror_mode": {
    "name": "ipython",
    "version": 3
   },
   "file_extension": ".py",
   "mimetype": "text/x-python",
   "name": "python",
   "nbconvert_exporter": "python",
   "pygments_lexer": "ipython3",
   "version": "3.11.4"
  },
  "toc": {
   "base_numbering": 1,
   "nav_menu": {
    "height": "148px",
    "width": "160px"
   },
   "number_sections": true,
   "sideBar": true,
   "skip_h1_title": false,
   "title_cell": "Table of Contents",
   "title_sidebar": "Contents",
   "toc_cell": false,
   "toc_position": {
    "height": "calc(100% - 180px)",
    "left": "10px",
    "top": "150px",
    "width": "373.391px"
   },
   "toc_section_display": true,
   "toc_window_display": false
  },
  "toc-autonumbering": true,
  "toc-showtags": false,
  "varInspector": {
   "cols": {
    "lenName": 16,
    "lenType": 16,
    "lenVar": 40
   },
   "kernels_config": {
    "python": {
     "delete_cmd_postfix": "",
     "delete_cmd_prefix": "del ",
     "library": "var_list.py",
     "varRefreshCmd": "print(var_dic_list())"
    },
    "r": {
     "delete_cmd_postfix": ") ",
     "delete_cmd_prefix": "rm(",
     "library": "var_list.r",
     "varRefreshCmd": "cat(var_dic_list()) "
    }
   },
   "types_to_exclude": [
    "module",
    "function",
    "builtin_function_or_method",
    "instance",
    "_Feature"
   ],
   "window_display": false
  }
 },
 "nbformat": 4,
 "nbformat_minor": 5
}
